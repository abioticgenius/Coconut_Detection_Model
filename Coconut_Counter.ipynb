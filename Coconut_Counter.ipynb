{
  "nbformat": 4,
  "nbformat_minor": 0,
  "metadata": {
    "colab": {
      "provenance": [],
      "gpuType": "T4"
    },
    "kernelspec": {
      "name": "python3",
      "display_name": "Python 3"
    },
    "language_info": {
      "name": "python"
    },
    "accelerator": "GPU"
  },
  "cells": [
    {
      "cell_type": "code",
      "execution_count": null,
      "metadata": {
        "colab": {
          "base_uri": "https://localhost:8080/"
        },
        "id": "I4KBvoW-XwaT",
        "outputId": "1ac2ecba-abf5-470c-844c-1826d6a4254c"
      },
      "outputs": [
        {
          "output_type": "stream",
          "name": "stderr",
          "text": [
            "Ultralytics YOLOv8.0.20 🚀 Python-3.10.12 torch-2.1.0+cu121 CUDA:0 (Tesla T4, 15102MiB)\n",
            "Setup complete ✅ (2 CPUs, 12.7 GB RAM, 26.4/78.2 GB disk)\n"
          ]
        }
      ],
      "source": [
        "!pip install ultralytics==8.0.20\n",
        "\n",
        "\n",
        "from IPython import display\n",
        "display.clear_output()\n",
        "\n",
        "import ultralytics\n",
        "ultralytics.checks()\n"
      ]
    },
    {
      "cell_type": "code",
      "source": [
        "from ultralytics import YOLO\n",
        "\n",
        "from IPython.display import display, Image"
      ],
      "metadata": {
        "id": "E7ZV07elX0Md"
      },
      "execution_count": null,
      "outputs": []
    },
    {
      "cell_type": "code",
      "source": [
        "from google.colab import drive\n",
        "drive.mount('/content/drive')"
      ],
      "metadata": {
        "colab": {
          "base_uri": "https://localhost:8080/"
        },
        "id": "-mc1wZr6Zfza",
        "outputId": "d075bc2f-b61b-4c2e-c233-b630794c0b06"
      },
      "execution_count": null,
      "outputs": [
        {
          "output_type": "stream",
          "name": "stdout",
          "text": [
            "Mounted at /content/drive\n"
          ]
        }
      ]
    },
    {
      "cell_type": "code",
      "source": [
        "%cd /content/drive/MyDrive/YoloV8n/Coco_Detect.v2i.yolov8"
      ],
      "metadata": {
        "colab": {
          "base_uri": "https://localhost:8080/"
        },
        "id": "chZG9VKZZsQn",
        "outputId": "657c3a96-74a9-4ef6-d259-43801516e003"
      },
      "execution_count": null,
      "outputs": [
        {
          "output_type": "stream",
          "name": "stdout",
          "text": [
            "/content/drive/MyDrive/YoloV8n/Coco_Detect.v2i.yolov8\n"
          ]
        }
      ]
    },
    {
      "cell_type": "code",
      "source": [
        "%cd /content/drive/MyDrive/YoloV8n/Coco_Detect.v2i.yolov8\n",
        "\n",
        "!yolo task=detect mode=train model=yolov8n.pt data= data.yaml epochs=10 imgsz=640 plots=True"
      ],
      "metadata": {
        "colab": {
          "base_uri": "https://localhost:8080/"
        },
        "id": "f_MGWNe1aDZF",
        "outputId": "c502d065-93f6-4e73-dd74-a456019912bb"
      },
      "execution_count": null,
      "outputs": [
        {
          "output_type": "stream",
          "name": "stdout",
          "text": [
            "/content/drive/MyDrive/YoloV8n/Coco_Detect.v2i.yolov8\n",
            "Traceback (most recent call last):\n",
            "  File \"/usr/local/bin/yolo\", line 5, in <module>\n",
            "    from ultralytics.yolo.cfg import entrypoint\n",
            "  File \"/usr/local/lib/python3.10/dist-packages/ultralytics/__init__.py\", line 5, in <module>\n",
            "    from ultralytics.yolo.engine.model import YOLO\n",
            "  File \"/usr/local/lib/python3.10/dist-packages/ultralytics/yolo/__init__.py\", line 3, in <module>\n",
            "    from . import v8\n",
            "  File \"/usr/local/lib/python3.10/dist-packages/ultralytics/yolo/v8/__init__.py\", line 3, in <module>\n",
            "    from ultralytics.yolo.v8 import classify, detect, segment\n",
            "  File \"/usr/local/lib/python3.10/dist-packages/ultralytics/yolo/v8/classify/__init__.py\", line 3, in <module>\n",
            "    from ultralytics.yolo.v8.classify.predict import ClassificationPredictor, predict\n",
            "  File \"/usr/local/lib/python3.10/dist-packages/ultralytics/yolo/v8/classify/predict.py\", line 6, in <module>\n",
            "    from ultralytics.yolo.engine.predictor import BasePredictor\n",
            "  File \"/usr/local/lib/python3.10/dist-packages/ultralytics/yolo/engine/predictor.py\", line 34, in <module>\n",
            "    from ultralytics.nn.autobackend import AutoBackend\n",
            "  File \"/usr/local/lib/python3.10/dist-packages/ultralytics/nn/autobackend.py\", line 18, in <module>\n",
            "    from ultralytics.yolo.utils.ops import xywh2xyxy\n",
            "  File \"/usr/local/lib/python3.10/dist-packages/ultralytics/yolo/utils/ops.py\", line 10, in <module>\n",
            "    import torchvision\n",
            "  File \"/usr/local/lib/python3.10/dist-packages/torchvision/__init__.py\", line 6, in <module>\n",
            "    from torchvision import _meta_registrations, datasets, io, models, ops, transforms, utils\n",
            "  File \"/usr/local/lib/python3.10/dist-packages/torchvision/models/__init__.py\", line 2, in <module>\n",
            "    from .convnext import *\n",
            "  File \"/usr/local/lib/python3.10/dist-packages/torchvision/models/convnext.py\", line 8, in <module>\n",
            "    from ..ops.misc import Conv2dNormActivation, Permute\n",
            "  File \"/usr/local/lib/python3.10/dist-packages/torchvision/ops/__init__.py\", line 1, in <module>\n",
            "    from ._register_onnx_ops import _register_custom_op\n",
            "  File \"/usr/local/lib/python3.10/dist-packages/torchvision/ops/_register_onnx_ops.py\", line 5, in <module>\n",
            "    from torch.onnx import symbolic_opset11 as opset11\n",
            "  File \"/usr/local/lib/python3.10/dist-packages/torch/onnx/__init__.py\", line 46, in <module>\n",
            "    from ._internal.exporter import (  # usort:skip. needs to be last to avoid circular import\n",
            "  File \"/usr/local/lib/python3.10/dist-packages/torch/onnx/_internal/exporter.py\", line 42, in <module>\n",
            "    from torch.onnx._internal.fx import (\n",
            "  File \"/usr/local/lib/python3.10/dist-packages/torch/onnx/_internal/fx/__init__.py\", line 1, in <module>\n",
            "    from .patcher import ONNXTorchPatcher\n",
            "  File \"/usr/local/lib/python3.10/dist-packages/torch/onnx/_internal/fx/patcher.py\", line 11, in <module>\n",
            "    import transformers  # type: ignore[import]\n",
            "  File \"/usr/local/lib/python3.10/dist-packages/transformers/__init__.py\", line 26, in <module>\n",
            "    from . import dependency_versions_check\n",
            "  File \"/usr/local/lib/python3.10/dist-packages/transformers/dependency_versions_check.py\", line 16, in <module>\n",
            "    from .utils.versions import require_version, require_version_core\n",
            "  File \"/usr/local/lib/python3.10/dist-packages/transformers/utils/__init__.py\", line 18, in <module>\n",
            "    from huggingface_hub import get_full_repo_name  # for backward compatibility\n",
            "  File \"<frozen importlib._bootstrap>\", line 1075, in _handle_fromlist\n",
            "  File \"/usr/local/lib/python3.10/dist-packages/huggingface_hub/__init__.py\", line 370, in __getattr__\n",
            "    submod = importlib.import_module(submod_path)\n",
            "  File \"/usr/lib/python3.10/importlib/__init__.py\", line 126, in import_module\n",
            "    return _bootstrap._gcd_import(name[level:], package, level)\n",
            "  File \"/usr/local/lib/python3.10/dist-packages/huggingface_hub/hf_api.py\", line 51, in <module>\n",
            "    from ._commit_api import (\n",
            "  File \"/usr/local/lib/python3.10/dist-packages/huggingface_hub/_commit_api.py\", line 17, in <module>\n",
            "    from huggingface_hub import get_session\n",
            "  File \"<frozen importlib._bootstrap>\", line 1075, in _handle_fromlist\n",
            "  File \"/usr/local/lib/python3.10/dist-packages/huggingface_hub/__init__.py\", line 370, in __getattr__\n",
            "    submod = importlib.import_module(submod_path)\n",
            "  File \"/usr/lib/python3.10/importlib/__init__.py\", line 126, in import_module\n",
            "    return _bootstrap._gcd_import(name[level:], package, level)\n",
            "  File \"/usr/local/lib/python3.10/dist-packages/huggingface_hub/utils/__init__.py\", line 43, in <module>\n",
            "    from ._token import get_token\n",
            "  File \"/usr/local/lib/python3.10/dist-packages/huggingface_hub/utils/_token.py\", line 22, in <module>\n",
            "    from ._runtime import is_google_colab\n",
            "  File \"/usr/local/lib/python3.10/dist-packages/huggingface_hub/utils/_runtime.py\", line 62, in <module>\n",
            "    _package_versions[candidate_name] = importlib.metadata.version(name)\n",
            "  File \"/usr/lib/python3.10/importlib/metadata/__init__.py\", line 996, in version\n",
            "    return distribution(distribution_name).version\n",
            "  File \"/usr/lib/python3.10/importlib/metadata/__init__.py\", line 627, in version\n",
            "    return self.metadata['Version']\n",
            "  File \"/usr/lib/python3.10/importlib/metadata/__init__.py\", line 605, in metadata\n",
            "    self.read_text('METADATA')\n",
            "  File \"/usr/lib/python3.10/importlib/metadata/__init__.py\", line 927, in read_text\n",
            "    return self._path.joinpath(filename).read_text(encoding='utf-8')\n",
            "  File \"/usr/lib/python3.10/pathlib.py\", line 1134, in read_text\n",
            "    with self.open(mode='r', encoding=encoding, errors=errors) as f:\n",
            "KeyboardInterrupt\n",
            "^C\n"
          ]
        }
      ]
    },
    {
      "cell_type": "code",
      "source": [
        "!ls runs/detect/train/"
      ],
      "metadata": {
        "colab": {
          "base_uri": "https://localhost:8080/"
        },
        "id": "akzJtq4SdNFs",
        "outputId": "1216d247-6f2b-4eaf-90ea-cd4852a2df67"
      },
      "execution_count": null,
      "outputs": [
        {
          "output_type": "stream",
          "name": "stdout",
          "text": [
            "args.yaml\t\t\t\t\t     results.csv\t    val_batch1_labels.jpg\n",
            "confusion_matrix.png\t\t\t\t     results.png\t    val_batch1_pred.jpg\n",
            "events.out.tfevents.1708196372.d211a9695d5b.26589.0  train_batch0.jpg\t    val_batch2_labels.jpg\n",
            "F1_curve.png\t\t\t\t\t     train_batch1.jpg\t    val_batch2_pred.jpg\n",
            "P_curve.png\t\t\t\t\t     train_batch2.jpg\t    weights\n",
            "PR_curve.png\t\t\t\t\t     val_batch0_labels.jpg\n",
            "R_curve.png\t\t\t\t\t     val_batch0_pred.jpg\n"
          ]
        }
      ]
    },
    {
      "cell_type": "code",
      "source": [
        "!yolo task=detect mode=val model=runs/detect/train/weights/best.pt data=data.yaml"
      ],
      "metadata": {
        "colab": {
          "base_uri": "https://localhost:8080/"
        },
        "id": "pPW_KbZwu3Li",
        "outputId": "d7499503-717e-4899-aa09-068eecab3026"
      },
      "execution_count": null,
      "outputs": [
        {
          "output_type": "stream",
          "name": "stdout",
          "text": [
            "2024-03-07 14:10:01.585434: E external/local_xla/xla/stream_executor/cuda/cuda_dnn.cc:9261] Unable to register cuDNN factory: Attempting to register factory for plugin cuDNN when one has already been registered\n",
            "2024-03-07 14:10:01.585490: E external/local_xla/xla/stream_executor/cuda/cuda_fft.cc:607] Unable to register cuFFT factory: Attempting to register factory for plugin cuFFT when one has already been registered\n",
            "2024-03-07 14:10:01.587004: E external/local_xla/xla/stream_executor/cuda/cuda_blas.cc:1515] Unable to register cuBLAS factory: Attempting to register factory for plugin cuBLAS when one has already been registered\n",
            "2024-03-07 14:10:03.140900: W tensorflow/compiler/tf2tensorrt/utils/py_utils.cc:38] TF-TRT Warning: Could not find TensorRT\n",
            "Ultralytics YOLOv8.0.20 🚀 Python-3.10.12 torch-2.1.0+cu121 CPU\n",
            "Model summary (fused): 168 layers, 3005843 parameters, 0 gradients, 8.1 GFLOPs\n",
            "Downloading https://ultralytics.com/assets/Arial.ttf to /root/.config/Ultralytics/Arial.ttf...\n",
            "100% 755k/755k [00:00<00:00, 18.1MB/s]\n",
            "\u001b[34m\u001b[1mval: \u001b[0mScanning /content/drive/MyDrive/YoloV8n/Coco_Detect.v2i.yolov8/valid/labels.cache... 93 images, 0 backgrounds, 0 corrupt: 100% 93/93 [00:00<?, ?it/s]\n",
            "                 Class     Images  Instances      Box(P          R      mAP50  mAP50-95): 100% 6/6 [00:59<00:00,  9.99s/it]\n",
            "                   all         93        847      0.819      0.747      0.803      0.596\n",
            "Speed: 7.2ms pre-process, 312.8ms inference, 0.0ms loss, 10.9ms post-process per image\n"
          ]
        }
      ]
    },
    {
      "cell_type": "code",
      "source": [
        "!yolo task=detect mode=predict model=runs/detect/train/weights/best.pt conf=0.25 source=/content/drive/MyDrive/YoloV8n/Coco_Detect.v2i.yolov8/test/images save=True"
      ],
      "metadata": {
        "colab": {
          "base_uri": "https://localhost:8080/"
        },
        "id": "rZl90nXLvHbA",
        "outputId": "1190cce9-9470-45eb-ebed-0e05ae957245"
      },
      "execution_count": null,
      "outputs": [
        {
          "output_type": "stream",
          "name": "stdout",
          "text": [
            "2024-03-07 14:16:22.302696: E external/local_xla/xla/stream_executor/cuda/cuda_dnn.cc:9261] Unable to register cuDNN factory: Attempting to register factory for plugin cuDNN when one has already been registered\n",
            "2024-03-07 14:16:22.302782: E external/local_xla/xla/stream_executor/cuda/cuda_fft.cc:607] Unable to register cuFFT factory: Attempting to register factory for plugin cuFFT when one has already been registered\n",
            "2024-03-07 14:16:22.305386: E external/local_xla/xla/stream_executor/cuda/cuda_blas.cc:1515] Unable to register cuBLAS factory: Attempting to register factory for plugin cuBLAS when one has already been registered\n",
            "2024-03-07 14:16:23.501804: W tensorflow/compiler/tf2tensorrt/utils/py_utils.cc:38] TF-TRT Warning: Could not find TensorRT\n",
            "Ultralytics YOLOv8.0.20 🚀 Python-3.10.12 torch-2.1.0+cu121 CPU\n",
            "Model summary (fused): 168 layers, 3005843 parameters, 0 gradients, 8.1 GFLOPs\n",
            "image 1/42 /content/drive/MyDrive/YoloV8n/Coco_Detect.v2i.yolov8/test/images/00015_jpg.rf.37221df71192104a5e420467a5299247.jpg: 640x640 22 coconuts, 224.5ms\n",
            "image 2/42 /content/drive/MyDrive/YoloV8n/Coco_Detect.v2i.yolov8/test/images/00022_jpg.rf.cd06b29c0f7c78d119543d767db2c8b1.jpg: 640x640 9 coconuts, 219.4ms\n",
            "image 3/42 /content/drive/MyDrive/YoloV8n/Coco_Detect.v2i.yolov8/test/images/00023_jpg.rf.7f5e0b4ff8f1e7e150d277573bea5711.jpg: 640x640 4 coconuts, 294.3ms\n",
            "image 4/42 /content/drive/MyDrive/YoloV8n/Coco_Detect.v2i.yolov8/test/images/00033_jpeg_jpg.rf.b8779d5ca76bf96eb4193d3dc035822e.jpg: 640x640 12 coconuts, 302.4ms\n",
            "image 5/42 /content/drive/MyDrive/YoloV8n/Coco_Detect.v2i.yolov8/test/images/00051_jpeg_jpg.rf.90cd4aef23d806aca24b48c7d4b7f767.jpg: 640x640 16 coconuts, 302.6ms\n",
            "image 6/42 /content/drive/MyDrive/YoloV8n/Coco_Detect.v2i.yolov8/test/images/00057_jpeg_jpg.rf.5b9fff74f4db9ed16c2b69b59e0e38ae.jpg: 640x640 4 coconuts, 298.6ms\n",
            "image 7/42 /content/drive/MyDrive/YoloV8n/Coco_Detect.v2i.yolov8/test/images/00068_jpeg_jpg.rf.d4f6c727240dcb2f877bb1d82619e85c.jpg: 640x640 6 coconuts, 261.2ms\n",
            "image 8/42 /content/drive/MyDrive/YoloV8n/Coco_Detect.v2i.yolov8/test/images/00089_JPG_jpg.rf.7c6d31a37ca9848ee378da7b24dd0ebf.jpg: 640x640 11 coconuts, 179.3ms\n",
            "image 9/42 /content/drive/MyDrive/YoloV8n/Coco_Detect.v2i.yolov8/test/images/00090_JPG_jpg.rf.d719345aee8405bffd422d410d9dc12e.jpg: 640x640 6 coconuts, 194.5ms\n",
            "image 10/42 /content/drive/MyDrive/YoloV8n/Coco_Detect.v2i.yolov8/test/images/00113_JPG_jpg.rf.4f996cc13be91b6b5a18bb402dd5dcea.jpg: 640x640 19 coconuts, 193.1ms\n",
            "image 11/42 /content/drive/MyDrive/YoloV8n/Coco_Detect.v2i.yolov8/test/images/00114_JPG_jpg.rf.eabd1f1d35a0f4db8b534df97c82e073.jpg: 640x640 210.8ms\n",
            "image 12/42 /content/drive/MyDrive/YoloV8n/Coco_Detect.v2i.yolov8/test/images/00120_JPG_jpg.rf.b15dc8f8383d9b0c95217cf0eb931653.jpg: 640x640 25 coconuts, 194.6ms\n",
            "image 13/42 /content/drive/MyDrive/YoloV8n/Coco_Detect.v2i.yolov8/test/images/00136_JPG_jpg.rf.541fd6d96195e5716b36e73b6620e6a0.jpg: 640x640 13 coconuts, 208.3ms\n",
            "image 14/42 /content/drive/MyDrive/YoloV8n/Coco_Detect.v2i.yolov8/test/images/00150_JPG_jpg.rf.10addd8dc681d271c85a1ac8d29f7313.jpg: 640x640 6 coconuts, 190.6ms\n",
            "image 15/42 /content/drive/MyDrive/YoloV8n/Coco_Detect.v2i.yolov8/test/images/00153_JPG_jpg.rf.aafe744fa8757100c12d1209d5710cf2.jpg: 640x640 14 coconuts, 200.6ms\n",
            "image 16/42 /content/drive/MyDrive/YoloV8n/Coco_Detect.v2i.yolov8/test/images/00187_JPG_jpg.rf.99a528a8c06b6c17a3a43dc9ac9bb145.jpg: 640x640 9 coconuts, 198.2ms\n",
            "image 17/42 /content/drive/MyDrive/YoloV8n/Coco_Detect.v2i.yolov8/test/images/00200_JPG_jpg.rf.abaaef29ad97b7ae30e4c08d9e5f2895.jpg: 640x640 6 coconuts, 205.6ms\n",
            "image 18/42 /content/drive/MyDrive/YoloV8n/Coco_Detect.v2i.yolov8/test/images/00214_JPG_jpg.rf.c82778b4de4dba9a1348bf558013777a.jpg: 640x640 13 coconuts, 193.4ms\n",
            "image 19/42 /content/drive/MyDrive/YoloV8n/Coco_Detect.v2i.yolov8/test/images/00219_JPG_jpg.rf.04504d7da18b3c95e7b6f85516ea61a4.jpg: 640x640 7 coconuts, 218.0ms\n",
            "image 20/42 /content/drive/MyDrive/YoloV8n/Coco_Detect.v2i.yolov8/test/images/00224_JPG_jpg.rf.41f4f3b00f44d905aabe9822f3c43544.jpg: 640x640 9 coconuts, 206.8ms\n",
            "image 21/42 /content/drive/MyDrive/YoloV8n/Coco_Detect.v2i.yolov8/test/images/00254_JPG_jpg.rf.37f59215cd5d097be4a1e28dc1423f9a.jpg: 640x640 9 coconuts, 203.4ms\n",
            "image 22/42 /content/drive/MyDrive/YoloV8n/Coco_Detect.v2i.yolov8/test/images/00271_JPG_jpg.rf.c1e537350fc9bef8b11d58bc940d38f2.jpg: 640x640 22 coconuts, 191.0ms\n",
            "image 23/42 /content/drive/MyDrive/YoloV8n/Coco_Detect.v2i.yolov8/test/images/00287_JPG_jpg.rf.c7cce1db2c07fb61e988653f0870ca7e.jpg: 640x640 8 coconuts, 196.3ms\n",
            "image 24/42 /content/drive/MyDrive/YoloV8n/Coco_Detect.v2i.yolov8/test/images/00294_JPG_jpg.rf.c2ae89453663e6e7fa137bc7b0ceb4c2.jpg: 640x640 1 coconut, 203.8ms\n",
            "image 25/42 /content/drive/MyDrive/YoloV8n/Coco_Detect.v2i.yolov8/test/images/00300_JPG_jpg.rf.c1f0a7eff8e50bffe5cb90746f89336e.jpg: 640x640 8 coconuts, 211.0ms\n",
            "image 26/42 /content/drive/MyDrive/YoloV8n/Coco_Detect.v2i.yolov8/test/images/00318_JPG_jpg.rf.eaf0b8b68572d544f967edbfc1ac7c28.jpg: 640x640 10 coconuts, 204.6ms\n",
            "image 27/42 /content/drive/MyDrive/YoloV8n/Coco_Detect.v2i.yolov8/test/images/00324_JPG_jpg.rf.20a5fe75c697e8a6a5ddbe8ec9c62f3b.jpg: 640x640 13 coconuts, 212.3ms\n",
            "image 28/42 /content/drive/MyDrive/YoloV8n/Coco_Detect.v2i.yolov8/test/images/00358_JPG_jpg.rf.927a1132f93ac04461487d594ae0b746.jpg: 640x640 15 coconuts, 316.9ms\n",
            "image 29/42 /content/drive/MyDrive/YoloV8n/Coco_Detect.v2i.yolov8/test/images/00364_JPG_jpg.rf.16a4789ed033a0c374ce557c9929164b.jpg: 640x640 8 coconuts, 310.5ms\n",
            "image 30/42 /content/drive/MyDrive/YoloV8n/Coco_Detect.v2i.yolov8/test/images/00368_JPG_jpg.rf.00e344dbee2a287663614f57139a65a6.jpg: 640x640 2 coconuts, 309.3ms\n",
            "image 31/42 /content/drive/MyDrive/YoloV8n/Coco_Detect.v2i.yolov8/test/images/00389_JPG_jpg.rf.d89df0a199777c2ef4c6f6636c15f3be.jpg: 640x640 7 coconuts, 315.9ms\n",
            "image 32/42 /content/drive/MyDrive/YoloV8n/Coco_Detect.v2i.yolov8/test/images/00397_JPG_jpg.rf.1fdd6280268206b284173f904a296e89.jpg: 640x640 11 coconuts, 207.4ms\n",
            "image 33/42 /content/drive/MyDrive/YoloV8n/Coco_Detect.v2i.yolov8/test/images/00398_JPG_jpg.rf.c485b5eb46bdee1c8a7cf2c02314f282.jpg: 640x640 11 coconuts, 199.8ms\n",
            "image 34/42 /content/drive/MyDrive/YoloV8n/Coco_Detect.v2i.yolov8/test/images/00404_JPG_jpg.rf.8482259e567bc1b8eea1afff722d0f27.jpg: 640x640 13 coconuts, 209.1ms\n",
            "image 35/42 /content/drive/MyDrive/YoloV8n/Coco_Detect.v2i.yolov8/test/images/00414_JPG_jpg.rf.3992918b0d41202a782d1fec119ed588.jpg: 640x640 7 coconuts, 193.6ms\n",
            "image 36/42 /content/drive/MyDrive/YoloV8n/Coco_Detect.v2i.yolov8/test/images/00415_JPG_jpg.rf.0e17f8db96d3783a40afc612a694aa88.jpg: 640x640 19 coconuts, 209.1ms\n",
            "image 37/42 /content/drive/MyDrive/YoloV8n/Coco_Detect.v2i.yolov8/test/images/00423_JPG_jpg.rf.dbd5555f2c1c7807489133a5e0a07aee.jpg: 640x640 10 coconuts, 207.3ms\n",
            "image 38/42 /content/drive/MyDrive/YoloV8n/Coco_Detect.v2i.yolov8/test/images/00446_JPG_jpg.rf.ff41fa502dce3afb10fca8620565e752.jpg: 640x640 16 coconuts, 203.9ms\n",
            "image 39/42 /content/drive/MyDrive/YoloV8n/Coco_Detect.v2i.yolov8/test/images/00452_JPG_jpg.rf.67e1c464206096017282a084631e5910.jpg: 640x640 6 coconuts, 203.3ms\n",
            "image 40/42 /content/drive/MyDrive/YoloV8n/Coco_Detect.v2i.yolov8/test/images/00453_JPG_jpg.rf.7e9dadcc9351e423a75d06d3c848b2fd.jpg: 640x640 3 coconuts, 193.2ms\n",
            "image 41/42 /content/drive/MyDrive/YoloV8n/Coco_Detect.v2i.yolov8/test/images/00459_JPG_jpg.rf.40054910421563c0162bfcc85ba8b0dd.jpg: 640x640 19 coconuts, 203.1ms\n",
            "image 42/42 /content/drive/MyDrive/YoloV8n/Coco_Detect.v2i.yolov8/test/images/WhatsApp-Image-2023-01-09-at-10-33-54-AM_jpeg_jpg.rf.ff4e8a43b9acef67d354cdc13336281a.jpg: 640x640 5 coconuts, 208.8ms\n",
            "Speed: 1.6ms pre-process, 224.1ms inference, 1.0ms postprocess per image at shape (1, 3, 640, 640)\n",
            "Results saved to \u001b[1mruns/detect/predict38\u001b[0m\n"
          ]
        }
      ]
    },
    {
      "cell_type": "code",
      "source": [
        "import glob\n",
        "from IPython.display import Image, display\n",
        "\n",
        "for image_path in glob.glob('runs/detect/predict/*.jpg')[:3]:\n",
        "      display(Image(filename=image_path, width=600))\n",
        "      print(\"\\n\")"
      ],
      "metadata": {
        "id": "jsTyPTprvksm"
      },
      "execution_count": null,
      "outputs": []
    },
    {
      "cell_type": "code",
      "source": [
        "import ultralytics\n",
        "import cv2\n",
        "import numpy as np\n",
        "import os\n",
        "import json\n",
        "from PIL import Image, ImageDraw, ImageFont\n",
        "from google.colab.patches import cv2_imshow\n",
        "\n",
        "ultralytics.checks()\n",
        "\n",
        "infer = ultralytics.YOLO(\"runs/detect/train/weights/best.pt\")\n",
        "\n",
        "folder_path = \"/content/drive/MyDrive/YoloV8n/Input\"\n",
        "output_folder = \"/content/drive/MyDrive/YoloV8n/Output\"\n",
        "results_file = \"results.json\"\n",
        "\n",
        "if not os.path.exists(results_file):\n",
        "    coconut_count = 0\n",
        "\n",
        "    for filename in os.listdir(folder_path):\n",
        "        if filename.endswith(\".jpg\") or filename.endswith(\".png\"):\n",
        "            file_path = os.path.join(folder_path, filename)\n",
        "            results = infer.predict(file_path, save=False, save_txt=True)\n",
        "\n",
        "            num_coconuts = 0\n",
        "            for box in results[0].boxes.data.cpu().numpy():\n",
        "                if box[5] == 0:\n",
        "                    num_coconuts += 1\n",
        "\n",
        "\n",
        "            img = Image.open(file_path)\n",
        "\n",
        "            draw = ImageDraw.Draw(img)\n",
        "\n",
        "\n",
        "            font_bold = ImageFont.truetype(\"/usr/share/fonts/truetype/liberation/LiberationMono-Bold.ttf\", size=24)\n",
        "\n",
        "\n",
        "            text = \"Number of coconuts: {}\".format(num_coconuts)\n",
        "            text_size = draw.textsize(text, font=font_bold)\n",
        "\n",
        "\n",
        "            text_pos = (\n",
        "                (img.width - text_size[0]) // 2,\n",
        "                img.height - text_size[1] - 10,\n",
        "            )\n",
        "\n",
        "\n",
        "            draw.text(text_pos, text, font=font_bold, fill=(0, 0, 0))\n",
        "\n",
        "\n",
        "            for box in results[0].boxes.data.cpu().numpy():\n",
        "                if box[5] == 0:\n",
        "                    x1, y1, x2, y2 = map(int, box[:4])\n",
        "                    draw.rectangle([x1, y1, x2, y2], outline=(255, 0, 0), width=3)\n",
        "\n",
        "\n",
        "            img.save(os.path.join(output_folder, os.path.splitext(filename)[0] + \"_result.png\"))\n",
        "\n",
        "\n",
        "            img_array = np.array(img)\n",
        "            img_array = cv2.cvtColor(img_array, cv2.COLOR_BGR2RGB)\n",
        "            cv2_imshow(img_array)\n",
        "\n",
        "            coconut_count += num_coconuts\n",
        "\n",
        "    with open(results_file, \"w\") as f:\n",
        "        json.dump({\"coconut_count\": coconut_count}, f)\n",
        "\n",
        "else:\n",
        "    with open(results_file, \"r\") as f:\n",
        "        results_data = json.load(f)\n",
        "        coconut_count = results_data[\"coconut_count\"]\n",
        "\n",
        "    print(\"Total number of coconuts in all images: \", coconut_count)"
      ],
      "metadata": {
        "colab": {
          "base_uri": "https://localhost:8080/"
        },
        "id": "7YVuDfsW0d70",
        "outputId": "869be9cb-fedd-4040-97f5-49a9bfb94511"
      },
      "execution_count": null,
      "outputs": [
        {
          "output_type": "stream",
          "name": "stderr",
          "text": [
            "Ultralytics YOLOv8.0.20 🚀 Python-3.10.12 torch-2.1.0+cu121 CPU\n",
            "Setup complete ✅ (2 CPUs, 12.7 GB RAM, 26.4/107.7 GB disk)\n"
          ]
        },
        {
          "output_type": "stream",
          "name": "stdout",
          "text": [
            "Total number of coconuts in all images:  130\n"
          ]
        }
      ]
    },
    {
      "cell_type": "code",
      "source": [
        "infer = YOLO(\"/content/drive/MyDrive/YoloV8n/Coco_Detect.v2i.yolov8/runs/detect/train/weights/best.pt\")"
      ],
      "metadata": {
        "id": "I-r4w4x6yG4R"
      },
      "execution_count": null,
      "outputs": []
    },
    {
      "cell_type": "code",
      "source": [
        "infer.predict(\"/content/drive/MyDrive/YoloV8n/mcms.jpg\" , save=True , save_txt=True)\n",
        "num_coconuts = 0\n",
        "for box in results[0].boxes:\n",
        "    if box.cls == 0: # Assuming class index 0 corresponds to coconuts\n",
        "        num_coconuts += 1\n",
        "\n",
        "print(\"Number of coconuts detected: \", num_coconuts)"
      ],
      "metadata": {
        "colab": {
          "base_uri": "https://localhost:8080/"
        },
        "id": "I6XVtcB6zND9",
        "outputId": "7b09d1dd-c008-4556-edf1-09c9664c06e8"
      },
      "execution_count": null,
      "outputs": [
        {
          "output_type": "stream",
          "name": "stderr",
          "text": [
            "Results saved to \u001b[1mruns/detect/predict10\u001b[0m\n",
            "3 labels saved to runs/detect/predict10/labels\n"
          ]
        },
        {
          "output_type": "stream",
          "name": "stdout",
          "text": [
            "Number of coconuts detected:  3\n"
          ]
        }
      ]
    },
    {
      "cell_type": "code",
      "source": [],
      "metadata": {
        "id": "ljkXOIGD2WWI"
      },
      "execution_count": null,
      "outputs": []
    }
  ]
}